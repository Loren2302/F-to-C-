{
 "cells": [
  {
   "cell_type": "code",
   "execution_count": 14,
   "id": "d42d9ec9-f58b-4e51-9ae2-fde51ec4c655",
   "metadata": {
    "tags": []
   },
   "outputs": [
    {
     "name": "stdout",
     "output_type": "stream",
     "text": [
      "32°C is equal to 89.6°F\n",
      "98°F is equal to 36.67°C\n"
     ]
    }
   ],
   "source": [
    "def celsius_to_fahrenheit(celsius):\n",
    "    return (celsius * 9/5) + 32\n",
    "\n",
    "def fahrenheit_to_celsius(fahrenheit):\n",
    "    return (fahrenheit - 32) * 5/9\n",
    "\n",
    "celsius = 32 \n",
    "fahrenheit = celsius_to_fahrenheit(celsius)\n",
    "print(f\"{celsius}°C is equal to {fahrenheit}°F\")\n",
    "      \n",
    "fahrenheit = 98\n",
    "celsius = fahrenheit_to_celsius(fahrenheit)\n",
    "print(f\"{fahrenheit}°F is equal to {celsius:.2f}°C\")"
   ]
  },
  {
   "cell_type": "code",
   "execution_count": 11,
   "id": "eec56bbb-0f9a-4c5f-baad-982c61df58e0",
   "metadata": {
    "tags": []
   },
   "outputs": [
    {
     "name": "stdin",
     "output_type": "stream",
     "text": [
      "Enter temperature in Celsius:  38\n"
     ]
    },
    {
     "name": "stdout",
     "output_type": "stream",
     "text": [
      "38.0°C is equal to 100.4°F\n"
     ]
    },
    {
     "name": "stdin",
     "output_type": "stream",
     "text": [
      "Enter temperature in Fahrenheit:  67\n"
     ]
    },
    {
     "name": "stdout",
     "output_type": "stream",
     "text": [
      "67.0°F is equal to 19.44°C\n"
     ]
    }
   ],
   "source": [
    "celsius_input = float(input(\"Enter temperature in Celsius: \"))\n",
    "fahrenheit_output = celsius_to_fahrenheit(celsius_input)\n",
    "print(f\"{celsius_input}°C is equal to {fahrenheit_output}°F\")\n",
    "\n",
    "fahrenheit_input = float(input(\"Enter temperature in Fahrenheit: \"))\n",
    "celsius_output = fahrenheit_to_celsius(fahrenheit_input)\n",
    "print(f\"{fahrenheit_input}°F is equal to {celsius_output:.2f}°C\")"
   ]
  },
  {
   "cell_type": "code",
   "execution_count": null,
   "id": "feff87b7-c7c4-4cdb-81a0-71f5b50c1a08",
   "metadata": {},
   "outputs": [],
   "source": []
  }
 ],
 "metadata": {
  "kernelspec": {
   "display_name": "Python 3 (ipykernel)",
   "language": "python",
   "name": "python3"
  },
  "language_info": {
   "codemirror_mode": {
    "name": "ipython",
    "version": 3
   },
   "file_extension": ".py",
   "mimetype": "text/x-python",
   "name": "python",
   "nbconvert_exporter": "python",
   "pygments_lexer": "ipython3",
   "version": "3.11.5"
  }
 },
 "nbformat": 4,
 "nbformat_minor": 5
}
